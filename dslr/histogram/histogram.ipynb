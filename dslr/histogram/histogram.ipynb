{
 "cells": [
  {
   "cell_type": "code",
   "execution_count": 40,
   "metadata": {},
   "outputs": [
    {
     "data": {
      "text/html": [
       "        <script type=\"text/javascript\">\n",
       "        window.PlotlyConfig = {MathJaxConfig: 'local'};\n",
       "        if (window.MathJax) {MathJax.Hub.Config({SVG: {font: \"STIX-Web\"}});}\n",
       "        if (typeof require !== 'undefined') {\n",
       "        require.undef(\"plotly\");\n",
       "        requirejs.config({\n",
       "            paths: {\n",
       "                'plotly': ['https://cdn.plot.ly/plotly-latest.min']\n",
       "            }\n",
       "        });\n",
       "        require(['plotly'], function(Plotly) {\n",
       "            window._Plotly = Plotly;\n",
       "        });\n",
       "        }\n",
       "        </script>\n",
       "        "
      ]
     },
     "metadata": {},
     "output_type": "display_data"
    }
   ],
   "source": [
    "import os\n",
    "import sys\n",
    "import argparse\n",
    "import plotly\n",
    "import cufflinks as cf\n",
    "import ipywidgets as widgets\n",
    "from ipywidgets import interact, interact_manual\n",
    "cf.go_offline()\n",
    "sys.path.insert(0, os.path.abspath(\n",
    "    os.path.join(os.path.abspath(''), '..')))\n",
    "sys.path.insert(0, os.path.abspath(\n",
    "    os.path.join(os.path.abspath(''), 'tools')))\n",
    "\n",
    "from utils import read_csv, drop_columns, normalize, generate_hogwarts_house_mask"
   ]
  },
  {
   "cell_type": "code",
   "execution_count": 41,
   "metadata": {
    "scrolled": true
   },
   "outputs": [
    {
     "data": {
      "text/html": [
       "<div>\n",
       "<style scoped>\n",
       "    .dataframe tbody tr th:only-of-type {\n",
       "        vertical-align: middle;\n",
       "    }\n",
       "\n",
       "    .dataframe tbody tr th {\n",
       "        vertical-align: top;\n",
       "    }\n",
       "\n",
       "    .dataframe thead th {\n",
       "        text-align: right;\n",
       "    }\n",
       "</style>\n",
       "<table border=\"1\" class=\"dataframe\">\n",
       "  <thead>\n",
       "    <tr style=\"text-align: right;\">\n",
       "      <th></th>\n",
       "      <th>Arithmancy</th>\n",
       "      <th>Astronomy</th>\n",
       "      <th>Herbology</th>\n",
       "      <th>Defense Against the Dark Arts</th>\n",
       "      <th>Divination</th>\n",
       "      <th>Muggle Studies</th>\n",
       "      <th>Ancient Runes</th>\n",
       "      <th>History of Magic</th>\n",
       "      <th>Transfiguration</th>\n",
       "      <th>Potions</th>\n",
       "      <th>Care of Magical Creatures</th>\n",
       "      <th>Charms</th>\n",
       "      <th>Flying</th>\n",
       "    </tr>\n",
       "  </thead>\n",
       "  <tbody>\n",
       "    <tr>\n",
       "      <th>0</th>\n",
       "      <td>58384.0</td>\n",
       "      <td>-487.886086</td>\n",
       "      <td>5.727180</td>\n",
       "      <td>4.878861</td>\n",
       "      <td>4.722</td>\n",
       "      <td>272.035831</td>\n",
       "      <td>532.484226</td>\n",
       "      <td>5.231058</td>\n",
       "      <td>1039.788281</td>\n",
       "      <td>3.790369</td>\n",
       "      <td>0.715939</td>\n",
       "      <td>-232.79405</td>\n",
       "      <td>-26.89</td>\n",
       "    </tr>\n",
       "    <tr>\n",
       "      <th>1</th>\n",
       "      <td>67239.0</td>\n",
       "      <td>-552.060507</td>\n",
       "      <td>-5.987446</td>\n",
       "      <td>5.520605</td>\n",
       "      <td>-5.612</td>\n",
       "      <td>-487.340557</td>\n",
       "      <td>367.760303</td>\n",
       "      <td>4.107170</td>\n",
       "      <td>1058.944592</td>\n",
       "      <td>7.248742</td>\n",
       "      <td>0.091674</td>\n",
       "      <td>-252.18425</td>\n",
       "      <td>-113.45</td>\n",
       "    </tr>\n",
       "    <tr>\n",
       "      <th>2</th>\n",
       "      <td>23702.0</td>\n",
       "      <td>-366.076117</td>\n",
       "      <td>7.725017</td>\n",
       "      <td>3.660761</td>\n",
       "      <td>6.140</td>\n",
       "      <td>664.893521</td>\n",
       "      <td>602.585284</td>\n",
       "      <td>3.555579</td>\n",
       "      <td>1088.088348</td>\n",
       "      <td>8.728531</td>\n",
       "      <td>-0.515327</td>\n",
       "      <td>-227.34265</td>\n",
       "      <td>30.42</td>\n",
       "    </tr>\n",
       "    <tr>\n",
       "      <th>3</th>\n",
       "      <td>32667.0</td>\n",
       "      <td>697.742809</td>\n",
       "      <td>-6.497214</td>\n",
       "      <td>-6.977428</td>\n",
       "      <td>4.026</td>\n",
       "      <td>-537.001128</td>\n",
       "      <td>523.982133</td>\n",
       "      <td>-4.809637</td>\n",
       "      <td>920.391449</td>\n",
       "      <td>0.821911</td>\n",
       "      <td>-0.014040</td>\n",
       "      <td>-256.84675</td>\n",
       "      <td>200.64</td>\n",
       "    </tr>\n",
       "    <tr>\n",
       "      <th>4</th>\n",
       "      <td>60158.0</td>\n",
       "      <td>436.775204</td>\n",
       "      <td>-7.820623</td>\n",
       "      <td>NaN</td>\n",
       "      <td>2.236</td>\n",
       "      <td>-444.262537</td>\n",
       "      <td>599.324514</td>\n",
       "      <td>-3.444377</td>\n",
       "      <td>937.434724</td>\n",
       "      <td>4.311066</td>\n",
       "      <td>-0.264070</td>\n",
       "      <td>-256.38730</td>\n",
       "      <td>157.98</td>\n",
       "    </tr>\n",
       "  </tbody>\n",
       "</table>\n",
       "</div>"
      ],
      "text/plain": [
       "   Arithmancy   Astronomy  Herbology  Defense Against the Dark Arts  \\\n",
       "0     58384.0 -487.886086   5.727180                       4.878861   \n",
       "1     67239.0 -552.060507  -5.987446                       5.520605   \n",
       "2     23702.0 -366.076117   7.725017                       3.660761   \n",
       "3     32667.0  697.742809  -6.497214                      -6.977428   \n",
       "4     60158.0  436.775204  -7.820623                            NaN   \n",
       "\n",
       "   Divination  Muggle Studies  Ancient Runes  History of Magic  \\\n",
       "0       4.722      272.035831     532.484226          5.231058   \n",
       "1      -5.612     -487.340557     367.760303          4.107170   \n",
       "2       6.140      664.893521     602.585284          3.555579   \n",
       "3       4.026     -537.001128     523.982133         -4.809637   \n",
       "4       2.236     -444.262537     599.324514         -3.444377   \n",
       "\n",
       "   Transfiguration   Potions  Care of Magical Creatures     Charms  Flying  \n",
       "0      1039.788281  3.790369                   0.715939 -232.79405  -26.89  \n",
       "1      1058.944592  7.248742                   0.091674 -252.18425 -113.45  \n",
       "2      1088.088348  8.728531                  -0.515327 -227.34265   30.42  \n",
       "3       920.391449  0.821911                  -0.014040 -256.84675  200.64  \n",
       "4       937.434724  4.311066                  -0.264070 -256.38730  157.98  "
      ]
     },
     "execution_count": 41,
     "metadata": {},
     "output_type": "execute_result"
    }
   ],
   "source": [
    "df = read_csv(\"../../resources/dataset_train.csv\")\n",
    "G_mask, S_mask, H_mask, R_mask = generate_hogwarts_house_mask(df)\n",
    "df = drop_columns(df, [\"Index\", \"Hogwarts House\", \"First Name\", \"Last Name\", \"Birthday\", \"Best Hand\"])\n",
    "df.head()"
   ]
  },
  {
   "cell_type": "code",
   "execution_count": 42,
   "metadata": {
    "scrolled": true
   },
   "outputs": [],
   "source": [
    "options = df.columns.values"
   ]
  },
  {
   "cell_type": "code",
   "execution_count": 43,
   "metadata": {},
   "outputs": [
    {
     "data": {
      "application/vnd.jupyter.widget-view+json": {
       "model_id": "c054bda7e40247e3a6addbafca86b3f6",
       "version_major": 2,
       "version_minor": 0
      },
      "text/plain": [
       "interactive(children=(Dropdown(description='subject', options=('Arithmancy', 'Astronomy', 'Herbology', 'Defens…"
      ]
     },
     "metadata": {},
     "output_type": "display_data"
    }
   ],
   "source": [
    "@interact\n",
    "def histogram(subject=options):\n",
    "    G_marks = df[subject][G_mask]\n",
    "    S_marks = df[subject][S_mask]\n",
    "    H_marks = df[subject][H_mask]\n",
    "    R_marks = df[subject][R_mask]\n",
    "    \n",
    "    fig = plotly.graph_objs.Figure()\n",
    "\n",
    "    fig.add_trace(plotly.graph_objs.Histogram(\n",
    "            x=G_marks, name=\"Gryffindor\", marker=dict(color=\"#ff0000\")))\n",
    "    fig.add_trace(plotly.graph_objs.Histogram(\n",
    "            x=S_marks, name=\"Slytherin\", marker=dict(color=\"#008000\")))\n",
    "    fig.add_trace(plotly.graph_objs.Histogram(\n",
    "            x=H_marks, name=\"Hufflepuff\", marker=dict(color=\"#ffff00\")))\n",
    "    fig.add_trace(plotly.graph_objs.Histogram(\n",
    "            x=R_marks, name=\"Ravenclaw\", marker=dict(color=\"#0000ff\")))\n",
    "\n",
    "    title = f\"Histogram {subject}\"\n",
    "    fig.update_layout(title_text=title, barmode=\"overlay\")\n",
    "    fig.update_traces(opacity=0.50)\n",
    "    fig.show()"
   ]
  }
 ],
 "metadata": {
  "kernelspec": {
   "display_name": "Python 3",
   "language": "python",
   "name": "python3"
  },
  "language_info": {
   "codemirror_mode": {
    "name": "ipython",
    "version": 3
   },
   "file_extension": ".py",
   "mimetype": "text/x-python",
   "name": "python",
   "nbconvert_exporter": "python",
   "pygments_lexer": "ipython3",
   "version": "3.7.4"
  }
 },
 "nbformat": 4,
 "nbformat_minor": 4
}
